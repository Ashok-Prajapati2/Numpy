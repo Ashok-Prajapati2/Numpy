{
 "cells": [
  {
   "cell_type": "markdown",
   "id": "c09babfe-1eb1-497d-bd32-2f283ebf635b",
   "metadata": {
    "jp-MarkdownHeadingCollapsed": true
   },
   "source": [
    "# Dimesitioal array"
   ]
  },
  {
   "cell_type": "markdown",
   "id": "582e4377-d7ef-4388-a274-df8ed52234c1",
   "metadata": {},
   "source": [
    "## 1D array"
   ]
  },
  {
   "cell_type": "code",
   "execution_count": 2,
   "id": "36c587fb-2b3f-4364-a580-be8af72c33b0",
   "metadata": {},
   "outputs": [
    {
     "name": "stdout",
     "output_type": "stream",
     "text": [
      "[1 2 3]\n",
      " Array is [5 5 6 4]\n",
      "1\n"
     ]
    }
   ],
   "source": [
    "import numpy as np\n",
    "a = np.array([1,2,3])\n",
    "print(a)\n",
    "\n",
    "l = []\n",
    "\n",
    "for n in range(1,5):\n",
    "    array_i =  int(input(\"enter Array number : \"))\n",
    "    l.append(array_i)\n",
    "    \n",
    "print(f\" Array is {np.array(l)}\")\n",
    "\n",
    "print(a.ndim)\n"
   ]
  },
  {
   "cell_type": "code",
   "execution_count": null,
   "id": "2eb8f4bf-c122-4799-8a2f-5083ad864b0e",
   "metadata": {},
   "outputs": [],
   "source": []
  },
  {
   "cell_type": "markdown",
   "id": "b2d1429e-2793-43d7-a4b9-f0d2f0b1534e",
   "metadata": {},
   "source": [
    "## 2D Array"
   ]
  },
  {
   "cell_type": "code",
   "execution_count": 3,
   "id": "db7c2f36-8c7c-4ace-996b-0cb099151f54",
   "metadata": {},
   "outputs": [
    {
     "name": "stdout",
     "output_type": "stream",
     "text": [
      "[[ 1  2  3  5]\n",
      " [ 2 34  5  6]] \n",
      " 2\n"
     ]
    }
   ],
   "source": [
    "arr2 = np.array([[1,2,3,5],[2,34,5,6]])\n",
    "print(arr2 ,\"\\n\", arr2.ndim)"
   ]
  },
  {
   "cell_type": "markdown",
   "id": "fd141ccb-92bc-4bda-b756-c7c826b862e2",
   "metadata": {},
   "source": [
    "## 3D array"
   ]
  },
  {
   "cell_type": "code",
   "execution_count": 4,
   "id": "41fe0b14-aae2-4567-a188-30c53174be9a",
   "metadata": {},
   "outputs": [
    {
     "name": "stdout",
     "output_type": "stream",
     "text": [
      "[[[1 2 3]\n",
      "  [4 3 2]\n",
      "  [1 6 6]]] \n",
      " 3\n"
     ]
    }
   ],
   "source": [
    "arr3 = np.array([[[1,2,3],[4,3,2],[1,6,6]]])\n",
    "print(arr3 ,\"\\n\", arr3.ndim)"
   ]
  },
  {
   "cell_type": "markdown",
   "id": "9ce78cf5-6d83-4f5a-b5ff-0bd370ad17f7",
   "metadata": {},
   "source": [
    "## HD array"
   ]
  },
  {
   "cell_type": "code",
   "execution_count": 5,
   "id": "0c6251c8-f685-4153-aeb7-de3f1a15b41a",
   "metadata": {},
   "outputs": [
    {
     "name": "stdout",
     "output_type": "stream",
     "text": [
      "[[[[[[[[[[1 2]\n",
      "         [1 2]\n",
      "         [1 1]\n",
      "         [2 3]]]]]]]]]] \n",
      " 10\n"
     ]
    }
   ],
   "source": [
    "arr_h =  np.array([[[[[[[[[[1,2],[1,2],[1,1],[2,3]]]]]]]]]])\n",
    "print(arr_h, \"\\n\" , arr_h.ndim)"
   ]
  },
  {
   "cell_type": "code",
   "execution_count": null,
   "id": "26d0a2c9-0f1f-40f6-a6ee-3072c0bb623b",
   "metadata": {},
   "outputs": [],
   "source": []
  },
  {
   "cell_type": "code",
   "execution_count": null,
   "id": "ad5861f3-1560-4bb7-a513-c80d471b7e78",
   "metadata": {},
   "outputs": [],
   "source": []
  },
  {
   "cell_type": "markdown",
   "id": "38f7bdd6-d232-4be3-9e14-73ccc6be2db4",
   "metadata": {
    "jp-MarkdownHeadingCollapsed": true
   },
   "source": [
    "# array using function "
   ]
  },
  {
   "cell_type": "code",
   "execution_count": null,
   "id": "48d374d9-ff03-4a75-8ca7-e31e0fb74551",
   "metadata": {},
   "outputs": [],
   "source": []
  },
  {
   "cell_type": "markdown",
   "id": "5d223e7c-0f45-4b1b-9790-08fc86939b8f",
   "metadata": {},
   "source": [
    "## zeros"
   ]
  },
  {
   "cell_type": "code",
   "execution_count": 6,
   "id": "d5a7e889-8817-465b-9b8e-3dc01f890cb3",
   "metadata": {},
   "outputs": [
    {
     "name": "stdout",
     "output_type": "stream",
     "text": [
      "[0. 0. 0. 0.]\n"
     ]
    }
   ],
   "source": [
    "ar_z = np.zeros(4)\n",
    "print(ar_z)\n"
   ]
  },
  {
   "cell_type": "code",
   "execution_count": 7,
   "id": "17a05b9f-7415-4766-89ac-0a23580554eb",
   "metadata": {},
   "outputs": [
    {
     "name": "stdout",
     "output_type": "stream",
     "text": [
      "[[0. 0. 0. 0. 0.]\n",
      " [0. 0. 0. 0. 0.]\n",
      " [0. 0. 0. 0. 0.]\n",
      " [0. 0. 0. 0. 0.]]\n"
     ]
    }
   ],
   "source": [
    "ar_z = np.zeros((4,5))\n",
    "print(ar_z)"
   ]
  },
  {
   "cell_type": "markdown",
   "id": "7e82f8e0-54fe-4a39-85ed-cfba0f752e0c",
   "metadata": {},
   "source": [
    "## empty"
   ]
  },
  {
   "cell_type": "code",
   "execution_count": 8,
   "id": "b004c488-cd56-41c1-a53f-f46eef24c065",
   "metadata": {},
   "outputs": [
    {
     "name": "stdout",
     "output_type": "stream",
     "text": [
      "[[0. 0.]\n",
      " [0. 0.]]\n"
     ]
    }
   ],
   "source": [
    "ar_empty = np.empty((2,2))\n",
    "print(ar_empty)"
   ]
  },
  {
   "cell_type": "markdown",
   "id": "dded5503-76ed-43d5-8d6c-8e8cf55b8bcc",
   "metadata": {},
   "source": [
    "## ones"
   ]
  },
  {
   "cell_type": "code",
   "execution_count": 9,
   "id": "9ecd32a3-91cc-4479-88a3-9fcf3f63abaa",
   "metadata": {},
   "outputs": [
    {
     "name": "stdout",
     "output_type": "stream",
     "text": [
      "[[1. 1. 1. 1. 1.]\n",
      " [1. 1. 1. 1. 1.]\n",
      " [1. 1. 1. 1. 1.]\n",
      " [1. 1. 1. 1. 1.]\n",
      " [1. 1. 1. 1. 1.]]\n"
     ]
    }
   ],
   "source": [
    "ar_ones = np.ones((5,5))\n",
    "print(ar_ones)"
   ]
  },
  {
   "cell_type": "markdown",
   "id": "4c3464ef-238b-4f86-982f-122698b8e293",
   "metadata": {},
   "source": [
    "## Range"
   ]
  },
  {
   "cell_type": "code",
   "execution_count": 10,
   "id": "d0e260a5-7392-49db-8d0f-cc927ef8c802",
   "metadata": {},
   "outputs": [
    {
     "name": "stdout",
     "output_type": "stream",
     "text": [
      "[0 1 2 3 4 5 6 7 8 9]\n"
     ]
    }
   ],
   "source": [
    "ar_r = np.arange(10)\n",
    "print(ar_r)"
   ]
  },
  {
   "cell_type": "markdown",
   "id": "f089ef41-622f-4da7-b514-7b261af3521e",
   "metadata": {},
   "source": [
    "## Digonal"
   ]
  },
  {
   "cell_type": "code",
   "execution_count": 11,
   "id": "f17e3783-ec5a-4b17-bd72-c801da596ad7",
   "metadata": {},
   "outputs": [
    {
     "name": "stdout",
     "output_type": "stream",
     "text": [
      "[[0. 1. 0. 0. 0. 0. 0. 0. 0.]\n",
      " [0. 0. 1. 0. 0. 0. 0. 0. 0.]\n",
      " [0. 0. 0. 1. 0. 0. 0. 0. 0.]\n",
      " [0. 0. 0. 0. 1. 0. 0. 0. 0.]\n",
      " [0. 0. 0. 0. 0. 1. 0. 0. 0.]] 2\n"
     ]
    }
   ],
   "source": [
    "ar_d = np.eye(5,9,1)\n",
    "print(ar_d , ar_d.ndim)"
   ]
  },
  {
   "cell_type": "markdown",
   "id": "06ae1f05-e708-4cd2-9274-9c439337985d",
   "metadata": {},
   "source": [
    "## line"
   ]
  },
  {
   "cell_type": "code",
   "execution_count": 12,
   "id": "1e2aab68-a1d0-4af3-92f6-17feb7b1bef3",
   "metadata": {},
   "outputs": [
    {
     "name": "stdout",
     "output_type": "stream",
     "text": [
      "[ 0.  5. 10. 15. 20.]\n"
     ]
    }
   ],
   "source": [
    "ar_line = np.linspace(0,20,5)\n",
    "print(ar_line)"
   ]
  },
  {
   "cell_type": "markdown",
   "id": "fd6b5e58-b6e0-4a36-8823-f0b242e38cc1",
   "metadata": {
    "jp-MarkdownHeadingCollapsed": true
   },
   "source": [
    "# create numpy arrays with random numbers"
   ]
  },
  {
   "cell_type": "markdown",
   "id": "e459757a-341b-4218-84c8-60437d51411a",
   "metadata": {
    "jp-MarkdownHeadingCollapsed": true
   },
   "source": [
    "## rand"
   ]
  },
  {
   "cell_type": "code",
   "execution_count": 15,
   "id": "286f3820-3e7d-4739-96dd-95a6c7ace64f",
   "metadata": {},
   "outputs": [
    {
     "name": "stdout",
     "output_type": "stream",
     "text": [
      "[4.2499443  0.73020734 0.21553747 4.49183518 2.59994766]\n"
     ]
    }
   ],
   "source": [
    "arr_1 = np.random.rand(5)*5\n",
    "print(arr_1)"
   ]
  },
  {
   "cell_type": "markdown",
   "id": "b2bf0e38-9fb5-4220-82dd-34c684dfc3ee",
   "metadata": {
    "jp-MarkdownHeadingCollapsed": true
   },
   "source": [
    "## randn"
   ]
  },
  {
   "cell_type": "code",
   "execution_count": 17,
   "id": "e2c548a7-463e-4c86-be84-0038451863a7",
   "metadata": {},
   "outputs": [
    {
     "name": "stdout",
     "output_type": "stream",
     "text": [
      "[-0.03938438  1.44035328 -1.75124904  1.22568361 -0.16132642]\n"
     ]
    }
   ],
   "source": [
    "arr_2 = np.random.randn(5)\n",
    "print(arr_2)"
   ]
  },
  {
   "cell_type": "markdown",
   "id": "a094b1eb-a7d0-425d-baf2-f80abd283d20",
   "metadata": {
    "jp-MarkdownHeadingCollapsed": true
   },
   "source": [
    "## ranf"
   ]
  },
  {
   "cell_type": "code",
   "execution_count": 20,
   "id": "3c7e5d57-b4ce-44b7-b525-e216f7f5c0dd",
   "metadata": {},
   "outputs": [
    {
     "name": "stdout",
     "output_type": "stream",
     "text": [
      "[0.38589978 0.31607645 0.19189007 0.81065863 0.57077924]\n"
     ]
    }
   ],
   "source": [
    "arr_3 = np.random.ranf(5)\n",
    "print(arr_3)"
   ]
  },
  {
   "cell_type": "markdown",
   "id": "bf90f1dc-73dd-4dfc-8124-a0aae0381a64",
   "metadata": {},
   "source": [
    "## randint"
   ]
  },
  {
   "cell_type": "code",
   "execution_count": 22,
   "id": "9451b506-89d5-4242-9696-b2a7f97a8b07",
   "metadata": {},
   "outputs": [
    {
     "name": "stdout",
     "output_type": "stream",
     "text": [
      "[59  7 95 27 52 26  6 11  8 61]\n"
     ]
    }
   ],
   "source": [
    "arr_4 = np.random.randint(5 , 100 , 10)\n",
    "print(arr_4)"
   ]
  },
  {
   "cell_type": "markdown",
   "id": "86602e89-9983-4096-bd54-48798e0f2182",
   "metadata": {
    "jp-MarkdownHeadingCollapsed": true
   },
   "source": [
    "# DATA TYPES"
   ]
  },
  {
   "cell_type": "code",
   "execution_count": 25,
   "id": "b5b4e678-03c6-42ac-bb36-b1b4f3ef5709",
   "metadata": {},
   "outputs": [
    {
     "name": "stdout",
     "output_type": "stream",
     "text": [
      "int64\n"
     ]
    }
   ],
   "source": [
    "var = np.array([1,2])\n",
    "print(var.dtype)"
   ]
  },
  {
   "cell_type": "code",
   "execution_count": 26,
   "id": "28cdd04a-5f56-4260-a8d0-658931716531",
   "metadata": {},
   "outputs": [
    {
     "name": "stdout",
     "output_type": "stream",
     "text": [
      "<U1\n"
     ]
    }
   ],
   "source": [
    "var = np.array(['a' , 'b'])\n",
    "print(var.dtype)"
   ]
  },
  {
   "cell_type": "code",
   "execution_count": 26,
   "id": "cbb1d6e2-f44c-41ce-84a8-1cc4c9dcbea3",
   "metadata": {},
   "outputs": [
    {
     "name": "stdout",
     "output_type": "stream",
     "text": [
      "<U21\n"
     ]
    }
   ],
   "source": [
    "var = np.array([1,'a'])\n",
    "print(var.dtype)"
   ]
  },
  {
   "cell_type": "code",
   "execution_count": 27,
   "id": "079fe815-05ae-4f31-965b-d8bbd8452e92",
   "metadata": {},
   "outputs": [
    {
     "name": "stdout",
     "output_type": "stream",
     "text": [
      "float64\n"
     ]
    }
   ],
   "source": [
    "var = np.array([1.1])\n",
    "print(var.dtype)"
   ]
  },
  {
   "cell_type": "markdown",
   "id": "9e7fc4f6-6642-4579-a571-8d000abd72da",
   "metadata": {},
   "source": [
    "## convert data types "
   ]
  },
  {
   "cell_type": "code",
   "execution_count": 27,
   "id": "e6dbbac6-a254-40ba-9ce7-7115aa29743a",
   "metadata": {},
   "outputs": [
    {
     "name": "stdout",
     "output_type": "stream",
     "text": [
      "int64\n",
      "[1 2 3 4 5]\n",
      "int8\n",
      "[1 2 3]\n",
      "<U1\n",
      "['1' '2' '3']\n",
      "float32\n",
      "[1. 2. 3.]\n"
     ]
    }
   ],
   "source": [
    "x = np.array([1,2,3,4,5])\n",
    "print(x.dtype)\n",
    "print(x)\n",
    "\n",
    "x = np.array([1,2,3], dtype = np.int8)\n",
    "print(x.dtype)\n",
    "print(x)\n",
    "\n",
    "x = np.array([1,2,3], dtype = 'U')\n",
    "print(x.dtype)\n",
    "print(x)\n",
    "\n",
    "x = np.array([1,2,3], dtype = 'f')\n",
    "print(x.dtype)\n",
    "print(x)"
   ]
  },
  {
   "cell_type": "code",
   "execution_count": 28,
   "id": "e9f669c1-77dc-4d20-bdde-c57c3e93b9f4",
   "metadata": {},
   "outputs": [
    {
     "name": "stdout",
     "output_type": "stream",
     "text": [
      "float64\n",
      "[1. 2. 3.]\n",
      "int64\n",
      "[1 2 3]\n"
     ]
    }
   ],
   "source": [
    "x = np.array([1,2,3])\n",
    "new = np.float_(x)\n",
    "print(new.dtype)\n",
    "print(new)\n",
    "\n",
    "new1 = new.astype(int)\n",
    "print(new1.dtype)\n",
    "print(new1)"
   ]
  },
  {
   "cell_type": "markdown",
   "id": "8bb11f87-9c03-4b38-93d4-72f1c4b8c4f3",
   "metadata": {
    "jp-MarkdownHeadingCollapsed": true
   },
   "source": [
    "# shape"
   ]
  },
  {
   "cell_type": "code",
   "execution_count": 29,
   "id": "b4c0e575-ea2d-4e37-bdde-4037bea258ae",
   "metadata": {},
   "outputs": [
    {
     "name": "stdout",
     "output_type": "stream",
     "text": [
      "[[1 2]\n",
      " [3 4]]\n",
      "(2, 2)\n"
     ]
    }
   ],
   "source": [
    "var = np.array([[1,2],[3,4]])\n",
    "print(var)\n",
    "print(var.shape)"
   ]
  },
  {
   "cell_type": "code",
   "execution_count": 30,
   "id": "d339c6f7-aaa2-4960-a23a-6a4b3c8a4d7c",
   "metadata": {},
   "outputs": [
    {
     "name": "stdout",
     "output_type": "stream",
     "text": [
      "(4,)\n"
     ]
    }
   ],
   "source": [
    "var1 = np.array([1,2,3,4]).shape\n",
    "\n",
    "print(var1)"
   ]
  },
  {
   "cell_type": "markdown",
   "id": "d1493ad6-8435-409b-b50a-549998d985c8",
   "metadata": {
    "jp-MarkdownHeadingCollapsed": true
   },
   "source": [
    "# Reshaping"
   ]
  },
  {
   "cell_type": "code",
   "execution_count": 31,
   "id": "82b01496-f114-46be-bf16-747625d6d828",
   "metadata": {},
   "outputs": [
    {
     "name": "stdout",
     "output_type": "stream",
     "text": [
      "[[1 2 3]\n",
      " [4 5 6]]\n",
      "[1 2 3 4 5 6]\n"
     ]
    }
   ],
   "source": [
    "var1 = np.array([1,2,3,4,5,6])\n",
    "print(var1.reshape(2,3))\n",
    "\n",
    "print(var1)"
   ]
  },
  {
   "cell_type": "code",
   "execution_count": 32,
   "id": "bdfc4d6c-28a3-4732-9568-f4f6c0f213a9",
   "metadata": {},
   "outputs": [
    {
     "name": "stdout",
     "output_type": "stream",
     "text": [
      "[[[1 2]\n",
      "  [3 4]\n",
      "  [5 6]\n",
      "  [7 8]]\n",
      "\n",
      " [[9 1]\n",
      "  [2 3]\n",
      "  [4 5]\n",
      "  [6 7]]]\n",
      "\n",
      "\n",
      " [1 2 3 4 5 6 7 8 9 1 2 3 4 5 6 7]\n"
     ]
    }
   ],
   "source": [
    "var1 = np.array([1,2,3,4,5,6,7,8,9,1,2,3,4,5,6,7])\n",
    "var = (var1.reshape(2,4,2))\n",
    "print(var)\n",
    "print(\"\\n\\n\",var.reshape(-1))"
   ]
  },
  {
   "cell_type": "markdown",
   "id": "8adfb8a8-6226-4130-822f-138fabaa3a07",
   "metadata": {
    "jp-MarkdownHeadingCollapsed": true
   },
   "source": [
    "# Arithmetic Operation in numpy array"
   ]
  },
  {
   "cell_type": "code",
   "execution_count": 33,
   "id": "e97429a9-0d0c-4bd2-9a4f-7e5150e938c6",
   "metadata": {},
   "outputs": [
    {
     "name": "stdout",
     "output_type": "stream",
     "text": [
      " Add :  [ 2  4  6  8 10 12 14 16] \n",
      "\n",
      " Subtract :  [0 0 0 0 0 0 0 0] \n",
      "\n",
      " Multiply :  [ 1  4  9 16 25 36 49 64] \n",
      "\n",
      " divide :  [1. 1. 1. 1. 1. 1. 1. 1.] \n",
      "\n",
      " mod :  [0 0 0 0 0 0 0 0] \n",
      "\n",
      " power  :  [       1        4       27      256     3125    46656   823543 16777216] \n",
      "\n",
      " reciprocal :  [1 0 0 0 0 0 0 0]\n"
     ]
    }
   ],
   "source": [
    "a = np.array([1,2,3,4,5,6,7,8])\n",
    "b = np.array([1,2,3,4,5,6,7,8])\n",
    "print(' Add : ', np.add(a,b),'\\n\\n', 'Subtract : ' , np.subtract(a,b),'\\n\\n' , 'Multiply : ' ,\n",
    "      np.multiply(a,b),'\\n\\n' , 'divide : ', np.divide(a,b),'\\n\\n' , 'mod : ' ,np.mod(a,b) ,'\\n\\n',\n",
    "      'power  : ' , np.power(a,b),'\\n\\n' , 'reciprocal : ', np.reciprocal(a))\n"
   ]
  },
  {
   "cell_type": "code",
   "execution_count": 34,
   "id": "2591e728-b0dc-462e-bc17-c084ae8bca12",
   "metadata": {},
   "outputs": [
    {
     "name": "stdout",
     "output_type": "stream",
     "text": [
      "[ 2  4  6  8 10 12 14 16]\n"
     ]
    }
   ],
   "source": [
    "print(a+b)"
   ]
  },
  {
   "cell_type": "code",
   "execution_count": 63,
   "id": "668cdf42-c139-4631-85b8-27b005b930fe",
   "metadata": {},
   "outputs": [
    {
     "name": "stdout",
     "output_type": "stream",
     "text": [
      "[ 5  6  7  8  9 10 11 12]\n"
     ]
    }
   ],
   "source": [
    "print(a+4)\n"
   ]
  },
  {
   "cell_type": "markdown",
   "id": "f64e88a4-b964-4dc8-99b2-3765622ca8ed",
   "metadata": {},
   "source": [
    "## 2D"
   ]
  },
  {
   "cell_type": "code",
   "execution_count": 66,
   "id": "bdf610e1-ab85-4d0b-a1fe-7734120c7e68",
   "metadata": {},
   "outputs": [
    {
     "name": "stdout",
     "output_type": "stream",
     "text": [
      "(3, 3)\n",
      "[[ 2  4  6]\n",
      " [ 8 10 12]\n",
      " [14 16 18]]\n"
     ]
    }
   ],
   "source": [
    "a = np.array([[1,2,3],[4,5,6],[7,8,9]])\n",
    "b = np.array([[1,2,3],[4,5,6],[7,8,9]])\n",
    "print(a.shape)\n",
    "print(np.add(a,b))"
   ]
  },
  {
   "cell_type": "markdown",
   "id": "8fe467e8-549c-4e12-8e2b-90289ea29fa6",
   "metadata": {
    "jp-MarkdownHeadingCollapsed": true
   },
   "source": [
    "# Other function"
   ]
  },
  {
   "cell_type": "code",
   "execution_count": 74,
   "id": "4775ba95-7063-4564-8bf6-8e77d7bf57d2",
   "metadata": {},
   "outputs": [
    {
     "name": "stdout",
     "output_type": "stream",
     "text": [
      "\n",
      "\n",
      " min :  1 \n",
      " \n",
      " max : 6 \n",
      " \n",
      " sqrt :  [1.         1.41421356 2.         2.23606798 2.44948974 2.\n",
      " 1.         1.73205081] \n",
      " \n",
      " sin :  [ 0.84147098  0.90929743 -0.7568025  -0.95892427 -0.2794155  -0.7568025\n",
      "  0.84147098  0.14112001] \n",
      "\n",
      "\n",
      " cos :  [ 0.54030231 -0.41614684 -0.65364362  0.28366219  0.96017029 -0.65364362\n",
      "  0.54030231 -0.9899925 ] \n",
      "\n",
      " cumsum :  [ 1  3  7 12 18 22 23 26]\n"
     ]
    }
   ],
   "source": [
    "x = np.array([1,2,4,5,6,4,1,3])\n",
    "print(\"\\n\\n min : \",np.min(x) ,\"\\n \\n max :\",np.max(x)  ,\"\\n \\n sqrt : \",np.sqrt(x) ,\"\\n \\n sin : \",np.sin(x),\"\\n\\n\\n cos : \",np.cos(x),\"\\n\\n cumsum : \",np.cumsum(x))"
   ]
  },
  {
   "cell_type": "markdown",
   "id": "118628c1-9a10-4aee-9604-4a8518cf8a1a",
   "metadata": {
    "jp-MarkdownHeadingCollapsed": true
   },
   "source": [
    "# Broadcasting"
   ]
  },
  {
   "cell_type": "code",
   "execution_count": 76,
   "id": "19c0af14-c7ac-451b-8f0f-1a9acff01974",
   "metadata": {},
   "outputs": [],
   "source": [
    "a = np.array([1,3,4])\n",
    "b = np.array([1,2,3,4])\n",
    "# print(a+b) # error"
   ]
  },
  {
   "cell_type": "code",
   "execution_count": 81,
   "id": "ac050fc4-c8c2-420e-bb78-792c954833ed",
   "metadata": {},
   "outputs": [
    {
     "name": "stdout",
     "output_type": "stream",
     "text": [
      "[[2 3 4 5]\n",
      " [3 4 5 6]\n",
      " [4 5 6 7]\n",
      " [5 6 7 8]] \n",
      "\n",
      " (4, 4)\n"
     ]
    }
   ],
   "source": [
    "b = np.array([1,2,3,4])\n",
    "a = np.array([[1],[2],[3],[4]])\n",
    "print(np.add(a,b),'\\n\\n',np.add(a,b).shape)"
   ]
  },
  {
   "cell_type": "markdown",
   "id": "d0f9ce7a-1b68-4489-bc35-a5a98715b324",
   "metadata": {
    "jp-MarkdownHeadingCollapsed": true
   },
   "source": [
    "# Indixing and slicing"
   ]
  },
  {
   "cell_type": "code",
   "execution_count": 7,
   "id": "6a84be22-d204-4b91-aa3e-34bc7148280c",
   "metadata": {},
   "outputs": [
    {
     "name": "stdout",
     "output_type": "stream",
     "text": [
      "1\n",
      "6\n"
     ]
    }
   ],
   "source": [
    "arr = np.array([1,2,3,4,5,6,7])\n",
    "print(arr[0])\n",
    "print(arr[-2])"
   ]
  },
  {
   "cell_type": "code",
   "execution_count": 10,
   "id": "05f7c3e0-185f-4556-8aea-8d13f916e4af",
   "metadata": {},
   "outputs": [
    {
     "name": "stdout",
     "output_type": "stream",
     "text": [
      "4\n",
      "4\n"
     ]
    }
   ],
   "source": [
    "arr = np.array([[1,2,3],[4,5,6]])\n",
    "print(arr[1][0])\n",
    "print(arr[1,0])"
   ]
  },
  {
   "cell_type": "code",
   "execution_count": 12,
   "id": "0793b3e4-698f-4732-bc78-2fc7e1bae073",
   "metadata": {},
   "outputs": [
    {
     "name": "stdout",
     "output_type": "stream",
     "text": [
      "[2 4]\n"
     ]
    }
   ],
   "source": [
    "arr = np.array([1,2,3,4,5,6])\n",
    "print(arr[1:5:2])"
   ]
  },
  {
   "cell_type": "markdown",
   "id": "1cc9857c-05a6-47e3-833d-4c9084516112",
   "metadata": {
    "jp-MarkdownHeadingCollapsed": true
   },
   "source": [
    "# Array interating"
   ]
  },
  {
   "cell_type": "code",
   "execution_count": 28,
   "id": "9c8d0914-74be-4b67-94da-5b6543ecf6da",
   "metadata": {},
   "outputs": [
    {
     "name": "stdout",
     "output_type": "stream",
     "text": [
      "6\n",
      "5\n",
      "4\n",
      "3\n",
      "2\n",
      "1\n",
      "\n",
      "\n",
      " [1 2 3 2]\n",
      "1\n",
      "2\n",
      "3\n",
      "2\n",
      "\n",
      " [4 5 6 8]\n",
      "4\n",
      "5\n",
      "6\n",
      "8\n"
     ]
    }
   ],
   "source": [
    "arr = np.array([1,2,3,4,5,6])\n",
    "arr2 = np.array([[1,2,3,2],[4,5,6,8]])\n",
    "for i in arr:\n",
    "    print(arr[-i])\n",
    "print()\n",
    "for i in arr2:\n",
    "    print('\\n',i)\n",
    "    for j in i :\n",
    "        print(j)\n",
    "    \n"
   ]
  },
  {
   "cell_type": "code",
   "execution_count": 34,
   "id": "b152748b-38a9-4e3a-9ff1-dd45b09e38d1",
   "metadata": {},
   "outputs": [
    {
     "name": "stdout",
     "output_type": "stream",
     "text": [
      "\n",
      " ((0, 0), 1)\n",
      "\n",
      " ((0, 1), 2)\n",
      "\n",
      " ((0, 2), 3)\n",
      "\n",
      " ((0, 3), 2)\n",
      "\n",
      " ((1, 0), 4)\n",
      "\n",
      " ((1, 1), 5)\n",
      "\n",
      " ((1, 2), 6)\n",
      "\n",
      " ((1, 3), 8)\n"
     ]
    }
   ],
   "source": [
    "for i in np.ndenumerate(arr2):\n",
    "    print('\\n',i)\n",
    "# for i in np.nditern(arr2):\n",
    "#     print('\\n',i) // this function removed in numpy\n",
    "  "
   ]
  },
  {
   "cell_type": "markdown",
   "id": "9297b328-e99a-4e38-9fec-eb7e8dda6d16",
   "metadata": {
    "jp-MarkdownHeadingCollapsed": true
   },
   "source": [
    "# copy v/s view"
   ]
  },
  {
   "cell_type": "code",
   "execution_count": 38,
   "id": "85e9b9de-9d74-4cb7-a431-727f413cf473",
   "metadata": {},
   "outputs": [
    {
     "name": "stdout",
     "output_type": "stream",
     "text": [
      "[[1 2 3 2]\n",
      " [4 5 6 8]] \n",
      "\n",
      " [[1 2 3 2]\n",
      " [4 5 6 8]] \n",
      "\n",
      " [[1 2 3 2]\n",
      " [4 5 6 8]]\n"
     ]
    }
   ],
   "source": [
    "arr2 = np.array([[1,2,3,2],[4,5,6,8]])\n",
    "arr = arr2.copy()\n",
    "arr1 = arr2.view()\n",
    "print(arr ,'\\n\\n', arr1 , '\\n\\n' , arr2)"
   ]
  },
  {
   "cell_type": "code",
   "execution_count": 41,
   "id": "54ee040d-0bdf-48ae-804a-d193c7d4ad97",
   "metadata": {},
   "outputs": [
    {
     "name": "stdout",
     "output_type": "stream",
     "text": [
      "[[ 1 41  3  2]\n",
      " [ 4  5  6  8]] \n",
      "\n",
      " [[ 1 45  3  2]\n",
      " [ 4  5  6  8]] \n",
      "\n",
      " [[ 1 45  3  2]\n",
      " [ 4  5  6  8]]\n"
     ]
    }
   ],
   "source": [
    "arr[0,1]= 41\n",
    "arr1[0,1]= 45\n",
    "print(arr ,'\\n\\n', arr1 , '\\n\\n' , arr2)"
   ]
  },
  {
   "cell_type": "markdown",
   "id": "4038064e-c67b-4e88-8434-d9ff6d904fbb",
   "metadata": {
    "jp-MarkdownHeadingCollapsed": true
   },
   "source": [
    "# join & split "
   ]
  },
  {
   "cell_type": "code",
   "execution_count": 49,
   "id": "1b70cad6-130b-42e0-bb9e-656266cdb56b",
   "metadata": {},
   "outputs": [
    {
     "name": "stdout",
     "output_type": "stream",
     "text": [
      "['1' '2' '3' '4' '5' '6' '7' '8' '\\n' '1' '2' '3' '4' '5' '6' '7' '8']\n"
     ]
    }
   ],
   "source": [
    "a = np.array([1,2,3,4,5,6,7,8])\n",
    "b = np.array([1,2,3,4,5,6,7,8])\n",
    "print(np.concatenate((a,b)))\n"
   ]
  },
  {
   "cell_type": "code",
   "execution_count": 51,
   "id": "bbfe11a7-4ab5-45a3-b779-38ab622824bc",
   "metadata": {},
   "outputs": [
    {
     "name": "stdout",
     "output_type": "stream",
     "text": [
      "['a' 'b' 'c' '1' '2' '3' '4']\n"
     ]
    }
   ],
   "source": [
    "a = np.array(['a', 'b','c'])\n",
    "b = np.array([1,2,3,4])\n",
    "print(np.concatenate((a,b)))\n"
   ]
  },
  {
   "cell_type": "code",
   "execution_count": 56,
   "id": "d64d0f4e-83d2-4912-b82f-fc80c0c82265",
   "metadata": {},
   "outputs": [
    {
     "name": "stdout",
     "output_type": "stream",
     "text": [
      "[[1 2 3 4 1 2 3 4]\n",
      " [5 6 7 8 5 6 7 8]]\n"
     ]
    }
   ],
   "source": [
    "a = np.array([[1,2,3,4],[5,6,7,8]])\n",
    "b = np.array([[1,2,3,4],[5,6,7,8]])\n",
    "print(np.concatenate((a,b) ,axis = 1))"
   ]
  },
  {
   "cell_type": "code",
   "execution_count": 83,
   "id": "935ec83e-95d0-4ae4-96e0-543d9e9c9f16",
   "metadata": {},
   "outputs": [
    {
     "name": "stdout",
     "output_type": "stream",
     "text": [
      "[[1 1]\n",
      " [2 2]\n",
      " [3 3]\n",
      " [4 4]\n",
      " [5 5]\n",
      " [6 6]\n",
      " [7 7]\n",
      " [8 8]]\n",
      "\n",
      "[[[1 1]\n",
      "  [2 2]\n",
      "  [3 3]\n",
      "  [4 4]\n",
      "  [5 5]\n",
      "  [6 6]\n",
      "  [7 7]\n",
      "  [8 8]]]\n",
      "\n",
      "[[1 2 3 4 5 6 7 8]\n",
      " [1 2 3 4 5 6 7 8]]\n",
      "\n",
      "[1 2 3 4 5 6 7 8 1 2 3 4 5 6 7 8]\n"
     ]
    }
   ],
   "source": [
    "a = np.array([1,2,3,4,5,6,7,8])\n",
    "b = np.array([1,2,3,4,5,6,7,8])\n",
    "print(np.stack((a,b),1))\n",
    "print()\n",
    "print(np.dstack((a,b)))\n",
    "print()\n",
    "print(np.vstack((a,b)))\n",
    "print()\n",
    "print(np.hstack((a,b)))"
   ]
  },
  {
   "cell_type": "code",
   "execution_count": 87,
   "id": "ec528c81-1f8c-4784-a075-d50ae600a0e1",
   "metadata": {},
   "outputs": [
    {
     "name": "stdout",
     "output_type": "stream",
     "text": [
      "[array([[1, 2, 3, 4]]), array([[5, 6, 7, 8]]), array([], shape=(0, 4), dtype=int64)]\n",
      "[array([[1, 2, 3, 4]]), array([[5, 6, 7, 8]]), array([], shape=(0, 4), dtype=int64)]\n",
      "[array([[1, 2],\n",
      "       [5, 6]]), array([[3, 4],\n",
      "       [7, 8]])]\n"
     ]
    }
   ],
   "source": [
    "print(np.array_split(a,3))\n",
    "\n",
    "a = np.array([[1,2,3,4],[5,6,7,8]])\n",
    "print(np.array_split(a,3))\n",
    "print(np.array_split(a,2,1))\n"
   ]
  },
  {
   "cell_type": "markdown",
   "id": "afae7a13-4080-4f6c-804b-0a3cb1699c8b",
   "metadata": {
    "jp-MarkdownHeadingCollapsed": true
   },
   "source": [
    "# Search "
   ]
  },
  {
   "cell_type": "code",
   "execution_count": 91,
   "id": "658a6768-b0bc-4c32-9b88-33493ce4a8f4",
   "metadata": {},
   "outputs": [
    {
     "name": "stdout",
     "output_type": "stream",
     "text": [
      "(array([0]), array([1]))\n",
      "(array([1, 3, 5, 7]),)\n"
     ]
    }
   ],
   "source": [
    "print(np.where(a == 2))\n",
    "b = np.array([1,2,3,4,5,6,7,8])\n",
    "print(np.where((b%2) == 0))"
   ]
  },
  {
   "cell_type": "markdown",
   "id": "87ae27c6-be40-48c3-9401-6d709f80cb68",
   "metadata": {
    "jp-MarkdownHeadingCollapsed": true
   },
   "source": [
    "# search sort"
   ]
  },
  {
   "cell_type": "code",
   "execution_count": 101,
   "id": "59068035-2207-4efc-b25f-652ee15a4555",
   "metadata": {},
   "outputs": [
    {
     "name": "stdout",
     "output_type": "stream",
     "text": [
      "3 [3 3 3]\n"
     ]
    }
   ],
   "source": [
    "b = np.array([1,2,3,7,8])\n",
    "x = np.searchsorted(b,4)\n",
    "x1 = np.searchsorted(b,[4,5,6])\n",
    "print(x,x1)"
   ]
  },
  {
   "cell_type": "markdown",
   "id": "931df40b-0855-4647-98d3-4d829ac4f2ac",
   "metadata": {
    "jp-MarkdownHeadingCollapsed": true
   },
   "source": [
    "#  sort "
   ]
  },
  {
   "cell_type": "code",
   "execution_count": 104,
   "id": "fe241e78-8d31-464d-be0f-3112ebfc16f1",
   "metadata": {},
   "outputs": [
    {
     "name": "stdout",
     "output_type": "stream",
     "text": [
      "[ 0  1  1  3  4  8  8  8 12]\n",
      "[[ 1  1  3  8]\n",
      " [ 0  4  8 12]]\n"
     ]
    }
   ],
   "source": [
    "b = np.array([1,3,8,1,8,4,0,12,8])\n",
    "print(np.sort(b))\n",
    "\n",
    "b = np.array([[1,3,8,1],[8,4,0,12]])\n",
    "print(np.sort(b))"
   ]
  },
  {
   "cell_type": "markdown",
   "id": "ad2ac4b7-4604-4378-9e95-c12b8ee657fb",
   "metadata": {
    "jp-MarkdownHeadingCollapsed": true
   },
   "source": [
    "# filter"
   ]
  },
  {
   "cell_type": "code",
   "execution_count": 119,
   "id": "d58c8d28-cce6-4d3b-af56-6f740534a34d",
   "metadata": {},
   "outputs": [
    {
     "name": "stdout",
     "output_type": "stream",
     "text": [
      "['a' 'h']\n"
     ]
    }
   ],
   "source": [
    "var = np.array(['a', 's', 'h'])\n",
    "f = [True, False,True ]\n",
    "\n",
    "result = var[f]\n",
    "\n",
    "print(result)"
   ]
  },
  {
   "cell_type": "markdown",
   "id": "fc3dd420-51c8-4c69-9d7f-0ca7b32c7ba9",
   "metadata": {
    "jp-MarkdownHeadingCollapsed": true
   },
   "source": [
    "# shuffle"
   ]
  },
  {
   "cell_type": "code",
   "execution_count": 135,
   "id": "f6d95274-99b7-4f94-85b3-a109ab067909",
   "metadata": {},
   "outputs": [
    {
     "name": "stdout",
     "output_type": "stream",
     "text": [
      "[3 6 6 1 8 3 3 1 2 7]\n"
     ]
    }
   ],
   "source": [
    "b = np.array([1,2,3,3,3,6,6,1,7,8])\n",
    "np.random.shuffle(b)\n",
    "print(b)"
   ]
  },
  {
   "cell_type": "markdown",
   "id": "58d76a25-c4aa-4224-acde-ef1d8fe3c54b",
   "metadata": {
    "jp-MarkdownHeadingCollapsed": true
   },
   "source": [
    "# unique "
   ]
  },
  {
   "cell_type": "code",
   "execution_count": 137,
   "id": "a534c73f-2143-4bbc-ad5d-e4bfbb00c48c",
   "metadata": {},
   "outputs": [
    {
     "name": "stdout",
     "output_type": "stream",
     "text": [
      "(array([1, 2, 3, 6, 7, 8]), array([0, 1, 2, 5, 8, 9]), array([2, 1, 3, 2, 1, 1]))\n"
     ]
    }
   ],
   "source": [
    "b = np.array([1,2,3,3,3,6,6,1,7,8])\n",
    "b = np.unique(b , return_index = True , return_counts = True)\n",
    "print(b)"
   ]
  },
  {
   "cell_type": "markdown",
   "id": "473c4058-09d8-4ca7-9c01-95f2183ff4e1",
   "metadata": {
    "jp-MarkdownHeadingCollapsed": true
   },
   "source": [
    "# Resize , Flatten ,Revel "
   ]
  },
  {
   "cell_type": "code",
   "execution_count": 154,
   "id": "2aa0f87c-8be1-4fe9-a092-36ade49fcf1f",
   "metadata": {},
   "outputs": [
    {
     "name": "stdout",
     "output_type": "stream",
     "text": [
      "[1 6 2 6 3 1 3 7 3 8]\n",
      "[1 2 3 3 3 6 6 1 7 8]\n",
      "[1 2 3 4 5 8]\n"
     ]
    }
   ],
   "source": [
    "b = np.array([[1,2,3,3,3],[6,6,1,7,8]])\n",
    "print(b.flatten('f'))\n",
    "print(b.flatten('c'))\n",
    "\n",
    "b = np.array([1, 2, 3, 4, 5,  8])\n",
    "print(b.ravel('f'))"
   ]
  },
  {
   "cell_type": "markdown",
   "id": "9a290688-3f27-4409-8b47-c03586e811f8",
   "metadata": {
    "jp-MarkdownHeadingCollapsed": true
   },
   "source": [
    "# insert &  Delete"
   ]
  },
  {
   "cell_type": "code",
   "execution_count": 179,
   "id": "b9b0b825-51c4-4625-b908-29b32eba0df6",
   "metadata": {},
   "outputs": [
    {
     "name": "stdout",
     "output_type": "stream",
     "text": [
      "[ 1  2  3  4  4  5  0 45  5  6  7  8]\n",
      "\n",
      "[[ 1  2  3  4]\n",
      " [ 5  6  7  8]\n",
      " [ 4  5  0 45]]\n",
      "[ 1  2  3  4  5  6  7  8  4  5  0 45]\n"
     ]
    }
   ],
   "source": [
    "b = np.array([1, 2, 3, 4, 5, 6, 7, 8])\n",
    "print(np.insert(b ,4 , [4,5,0,45 ]))\n",
    "\n",
    "print()\n",
    "x = np.array([[1, 2, 3, 4],[ 5, 6, 7, 8]])\n",
    "print(np.insert(x ,2 , [4,5,0,45],axis =0))\n",
    "\n",
    "x = np.array([[1, 2, 3, 4],[ 5, 6, 7, 8]])\n",
    "x = np.append(x ,[4,5,0,45])\n",
    "print(x\n"
   ]
  },
  {
   "cell_type": "code",
   "execution_count": 186,
   "id": "11585aeb-fc92-45a2-99ba-5f4eecce4fab",
   "metadata": {},
   "outputs": [
    {
     "name": "stdout",
     "output_type": "stream",
     "text": [
      "[3 4 6 7 8]\n"
     ]
    }
   ],
   "source": [
    "D =  np.delete(b , [0,1,4])\n",
    "print(D)"
   ]
  },
  {
   "cell_type": "markdown",
   "id": "95229d5c-d613-4cc3-8f7a-ee7f28cffdda",
   "metadata": {
    "jp-MarkdownHeadingCollapsed": true
   },
   "source": [
    "# Matrix"
   ]
  },
  {
   "cell_type": "code",
   "execution_count": 194,
   "id": "9013d47c-7939-4d0c-9adb-aa4525c48e83",
   "metadata": {},
   "outputs": [
    {
     "name": "stdout",
     "output_type": "stream",
     "text": [
      "[[1 2]\n",
      " [3 4]] \n",
      "\n",
      " [[1 2]\n",
      " [3 4]]\n"
     ]
    },
    {
     "data": {
      "text/plain": [
       "numpy.matrix"
      ]
     },
     "execution_count": 194,
     "metadata": {},
     "output_type": "execute_result"
    }
   ],
   "source": [
    "m = np.matrix([[1,2],[3,4]])\n",
    "n = np.matrix([[1,2],[3,4]])\n",
    "print(m ,'\\n\\n', n)\n",
    "type(m)"
   ]
  },
  {
   "cell_type": "code",
   "execution_count": 196,
   "id": "57b36844-de68-46ec-98ee-748f1737e291",
   "metadata": {},
   "outputs": [
    {
     "name": "stdout",
     "output_type": "stream",
     "text": [
      "[[2 4]\n",
      " [6 8]]\n",
      "[[ 7 10]\n",
      " [15 22]]\n",
      "[[ 7 10]\n",
      " [15 22]]\n"
     ]
    }
   ],
   "source": [
    "print(m+n)\n",
    "print(m*n)\n",
    "print(m.dot(n))"
   ]
  },
  {
   "cell_type": "markdown",
   "id": "270be6ac-a793-48b3-8240-10f3c173c328",
   "metadata": {},
   "source": [
    "# Matrix Function "
   ]
  },
  {
   "cell_type": "markdown",
   "id": "d90b74c3-e3b2-4232-bd92-671e57ecbf76",
   "metadata": {},
   "source": [
    "## Transpose , Swapaxes , Inverse , Power , Determinate"
   ]
  },
  {
   "cell_type": "code",
   "execution_count": 198,
   "id": "82d565b2-9783-496b-966b-6ae8ca0d384e",
   "metadata": {},
   "outputs": [
    {
     "name": "stdout",
     "output_type": "stream",
     "text": [
      "[[1 2]\n",
      " [3 4]] \n",
      "\n",
      "[[1 3]\n",
      " [2 4]]\n"
     ]
    }
   ],
   "source": [
    "m = np.matrix([[1,2],[3,4]])\n",
    "print(m , '\\n')\n",
    "print(np.transpose(m))"
   ]
  },
  {
   "cell_type": "code",
   "execution_count": 202,
   "id": "f4415003-d149-4133-885f-fc7c82368978",
   "metadata": {},
   "outputs": [
    {
     "name": "stdout",
     "output_type": "stream",
     "text": [
      "[[1 3]\n",
      " [2 4]]\n"
     ]
    }
   ],
   "source": [
    "print(np.swapaxes(m, 1 , 0))"
   ]
  },
  {
   "cell_type": "code",
   "execution_count": 203,
   "id": "9012f893-117c-4e1b-95d5-467c7e0384e2",
   "metadata": {},
   "outputs": [
    {
     "name": "stdout",
     "output_type": "stream",
     "text": [
      "[[-2.   1. ]\n",
      " [ 1.5 -0.5]]\n"
     ]
    }
   ],
   "source": [
    "print(np.linalg.inv(m))"
   ]
  },
  {
   "cell_type": "code",
   "execution_count": 207,
   "id": "32afa1b1-4c41-4125-be22-2287fc4aa68e",
   "metadata": {},
   "outputs": [
    {
     "name": "stdout",
     "output_type": "stream",
     "text": [
      "[[ 7 10]\n",
      " [15 22]]\n",
      "[[1 0]\n",
      " [0 1]]\n",
      "[[ 5.5  -2.5 ]\n",
      " [-3.75  1.75]]\n"
     ]
    }
   ],
   "source": [
    "print(np.linalg.matrix_power(m,2))\n",
    "print(np.linalg.matrix_power(m,0))\n",
    "print(np.linalg.matrix_power(m,-2))"
   ]
  },
  {
   "cell_type": "code",
   "execution_count": 214,
   "id": "be6cdada-791b-4e49-bcfe-19d149952588",
   "metadata": {},
   "outputs": [
    {
     "name": "stdout",
     "output_type": "stream",
     "text": [
      "47.999999999999986\n"
     ]
    }
   ],
   "source": [
    "m = np.matrix([[8,2],[8,8]])\n",
    "print(np.linalg.det(m))\n"
   ]
  },
  {
   "cell_type": "code",
   "execution_count": null,
   "id": "3497d3b1-a8a6-4746-a1e7-66cac93b7356",
   "metadata": {},
   "outputs": [],
   "source": []
  }
 ],
 "metadata": {
  "kernelspec": {
   "display_name": "Python 3 (ipykernel)",
   "language": "python",
   "name": "python3"
  },
  "language_info": {
   "codemirror_mode": {
    "name": "ipython",
    "version": 3
   },
   "file_extension": ".py",
   "mimetype": "text/x-python",
   "name": "python",
   "nbconvert_exporter": "python",
   "pygments_lexer": "ipython3",
   "version": "3.12.0"
  }
 },
 "nbformat": 4,
 "nbformat_minor": 5
}
